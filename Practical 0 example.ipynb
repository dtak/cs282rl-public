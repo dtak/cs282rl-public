{
 "metadata": {
  "name": "",
  "signature": "sha256:3d38513dea5cee45964f220305259462a8e19d2b9729b6dbce3ffe2364757925"
 },
 "nbformat": 3,
 "nbformat_minor": 0,
 "worksheets": [
  {
   "cells": [
    {
     "cell_type": "code",
     "collapsed": false,
     "input": [
      "from __future__ import absolute_import, print_function, unicode_literals, division"
     ],
     "language": "python",
     "metadata": {},
     "outputs": [],
     "prompt_number": 3
    },
    {
     "cell_type": "code",
     "collapsed": false,
     "input": [
      "%matplotlib inline\n",
      "import matplotlib.pyplot as plt"
     ],
     "language": "python",
     "metadata": {},
     "outputs": [],
     "prompt_number": 4
    },
    {
     "cell_type": "code",
     "collapsed": false,
     "input": [
      "import numpy as np"
     ],
     "language": "python",
     "metadata": {},
     "outputs": [],
     "prompt_number": 5
    },
    {
     "cell_type": "code",
     "collapsed": false,
     "input": [
      "from cs282rl.domains import Maze, FullyObservableSimpleMazeTask"
     ],
     "language": "python",
     "metadata": {},
     "outputs": [],
     "prompt_number": 6
    },
    {
     "cell_type": "code",
     "collapsed": false,
     "input": [
      "help(FullyObservableSimpleMazeTask)"
     ],
     "language": "python",
     "metadata": {},
     "outputs": [
      {
       "output_type": "stream",
       "stream": "stdout",
       "text": [
        "Help on class FullyObservableSimpleMazeTask in module cs282rl.domains.maze:\n",
        "\n",
        "class FullyObservableSimpleMazeTask(builtins.object)\n",
        " |  A simple task in a maze: get to the goal.\n",
        " |  \n",
        " |  Parameters\n",
        " |  ----------\n",
        " |  \n",
        " |  maze : list of strings or lists\n",
        " |      maze topology (see below)\n",
        " |  \n",
        " |  absorbing_end_state: boolean.\n",
        " |      If True, after reaching the goal, we go into an absorbing zero-reward end state with the maximal index.\n",
        " |  \n",
        " |  rewards: dict of string to number. default: {'*': 10}.\n",
        " |      Rewards obtained by being in a maze grid with the specified contents, or experiencing the\n",
        " |      specified event (e.g., 'hit-wall', 'moved'). The contributions of content reward and event\n",
        " |      reward are summed.\n",
        " |  \n",
        " |  Notes\n",
        " |  -----\n",
        " |  \n",
        " |  Maze topology is expressed textually. Key:\n",
        " |   '#': wall\n",
        " |   '.': open (really, anything that's not '#')\n",
        " |   '*': goal\n",
        " |   'o': origin\n",
        " |  \n",
        " |  Methods defined here:\n",
        " |  \n",
        " |  __init__(self, maze, absorbing_end_state=False, rewards={'*': 10}, action_error_prob=0, random_state=None)\n",
        " |  \n",
        " |  observe(self)\n",
        " |      Return the current state as an integer.\n",
        " |      \n",
        " |      The state is the index into the flattened maze. If the end state is\n",
        " |      absorbing, the n*m+1th state is that absorbing state.\n",
        " |  \n",
        " |  perform_action(self, action_idx)\n",
        " |      Perform an action (specified by index), yielding a new state and reward.\n",
        " |  \n",
        " |  reset(self)\n",
        " |      Reset the position to a starting position (an 'o'), chosen at random.\n",
        " |  \n",
        " |  ----------------------------------------------------------------------\n",
        " |  Data descriptors defined here:\n",
        " |  \n",
        " |  __dict__\n",
        " |      dictionary for instance variables (if defined)\n",
        " |  \n",
        " |  __weakref__\n",
        " |      list of weak references to the object (if defined)\n",
        " |  \n",
        " |  ----------------------------------------------------------------------\n",
        " |  Data and other attributes defined here:\n",
        " |  \n",
        " |  GOAL_MARKER = '*'\n",
        "\n"
       ]
      }
     ],
     "prompt_number": 25
    },
    {
     "cell_type": "code",
     "collapsed": false,
     "input": [
      "structure_raw = [\n",
      "    '#########',\n",
      "    '#..#....#',\n",
      "    '#..#..#.#',\n",
      "    '#..#..#.#',\n",
      "    '#..#.##.#',\n",
      "    '#....*#.#',\n",
      "    '#######.#',\n",
      "    '#o......#',\n",
      "    '#########']\n",
      "\n",
      "maze = Maze(structure_raw)\n",
      "task = FullyObservableSimpleMazeTask(maze, action_error_prob=.5)"
     ],
     "language": "python",
     "metadata": {},
     "outputs": [],
     "prompt_number": 7
    },
    {
     "cell_type": "code",
     "collapsed": false,
     "input": [
      "import random"
     ],
     "language": "python",
     "metadata": {},
     "outputs": [],
     "prompt_number": 8
    },
    {
     "cell_type": "code",
     "collapsed": false,
     "input": [
      "task.reset()\n",
      "print(\"Current state: \", task.observe())\n",
      "action = random.choice(range(4))\n",
      "print(\"Taking action\", action)\n",
      "new_state, reward = task.perform_action(action)\n",
      "print(\"New state:\", new_state, \"Reward:\", reward)"
     ],
     "language": "python",
     "metadata": {},
     "outputs": [
      {
       "output_type": "stream",
       "stream": "stdout",
       "text": [
        "Current state:  64\n",
        "Taking action 2\n",
        "New state: 65 Reward: 0\n"
       ]
      }
     ],
     "prompt_number": 22
    }
   ],
   "metadata": {}
  }
 ]
}