{
 "metadata": {
  "name": "",
  "signature": "sha256:8c2b1c47dba3c049b5a1fbfd20d6e8c1e1e2ace7849b977b50f162e3ade87693"
 },
 "nbformat": 3,
 "nbformat_minor": 0,
 "worksheets": [
  {
   "cells": [
    {
     "cell_type": "code",
     "collapsed": false,
     "input": [
      "%matplotlib inline\n",
      "import matplotlib.pyplot as plt\n",
      "import seaborn as sns"
     ],
     "language": "python",
     "metadata": {},
     "outputs": [],
     "prompt_number": 1
    },
    {
     "cell_type": "code",
     "collapsed": false,
     "input": [
      "import numpy as np"
     ],
     "language": "python",
     "metadata": {},
     "outputs": [],
     "prompt_number": 2
    },
    {
     "cell_type": "code",
     "collapsed": false,
     "input": [
      "from cs282rl.domains import Maze, FullyObservableSimpleMazeTask"
     ],
     "language": "python",
     "metadata": {},
     "outputs": [],
     "prompt_number": 4
    },
    {
     "cell_type": "code",
     "collapsed": false,
     "input": [
      "structure_raw = [\n",
      "    '#########',\n",
      "    '#..#....#',\n",
      "    '#..#..#.#',\n",
      "    '#..#..#.#',\n",
      "    '#..#.##.#',\n",
      "    '#....*#.#',\n",
      "    '#######.#',\n",
      "    '#o......#',\n",
      "    '#########']\n",
      "\n",
      "maze = Maze(structure_raw)\n",
      "task = FullyObservableSimpleMazeTask(maze, action_error_prob=.5)"
     ],
     "language": "python",
     "metadata": {},
     "outputs": [],
     "prompt_number": 5
    },
    {
     "cell_type": "code",
     "collapsed": false,
     "input": [
      "import random"
     ],
     "language": "python",
     "metadata": {},
     "outputs": [],
     "prompt_number": 12
    },
    {
     "cell_type": "code",
     "collapsed": false,
     "input": [
      "task.reset()\n",
      "print(\"Current state: \", task.observe())\n",
      "action = random.choice(range(4))\n",
      "print(\"Taking action\", action)\n",
      "new_state, reward = task.perform_action(action)\n",
      "print(\"New state:\", new_state, \"Reward:\", reward)"
     ],
     "language": "python",
     "metadata": {},
     "outputs": [
      {
       "output_type": "stream",
       "stream": "stdout",
       "text": [
        "Current state:  64\n",
        "Taking action 2\n",
        "New state: 64 Reward: 0\n"
       ]
      }
     ],
     "prompt_number": 33
    }
   ],
   "metadata": {}
  }
 ]
}