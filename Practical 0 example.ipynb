{
 "metadata": {
  "name": "",
  "signature": "sha256:4f185837b92a60bfdad6d59eaaa79324db433eeb07b6973072cf56e88f3ef5b9"
 },
 "nbformat": 3,
 "nbformat_minor": 0,
 "worksheets": [
  {
   "cells": [
    {
     "cell_type": "code",
     "collapsed": false,
     "input": [
      "from __future__ import absolute_import, print_function, unicode_literals, division"
     ],
     "language": "python",
     "metadata": {},
     "outputs": [],
     "prompt_number": 3
    },
    {
     "cell_type": "code",
     "collapsed": false,
     "input": [
      "%matplotlib inline\n",
      "import matplotlib.pyplot as plt"
     ],
     "language": "python",
     "metadata": {},
     "outputs": [],
     "prompt_number": 4
    },
    {
     "cell_type": "code",
     "collapsed": false,
     "input": [
      "import numpy as np"
     ],
     "language": "python",
     "metadata": {},
     "outputs": [],
     "prompt_number": 5
    },
    {
     "cell_type": "code",
     "collapsed": false,
     "input": [
      "from cs282rl.domains import Maze, FullyObservableSimpleMazeTask"
     ],
     "language": "python",
     "metadata": {},
     "outputs": [],
     "prompt_number": 6
    },
    {
     "cell_type": "code",
     "collapsed": false,
     "input": [
      "structure_raw = [\n",
      "    '#########',\n",
      "    '#..#....#',\n",
      "    '#..#..#.#',\n",
      "    '#..#..#.#',\n",
      "    '#..#.##.#',\n",
      "    '#....*#.#',\n",
      "    '#######.#',\n",
      "    '#o......#',\n",
      "    '#########']\n",
      "\n",
      "maze = Maze(structure_raw)\n",
      "task = FullyObservableSimpleMazeTask(maze, action_error_prob=.5)"
     ],
     "language": "python",
     "metadata": {},
     "outputs": [],
     "prompt_number": 7
    },
    {
     "cell_type": "code",
     "collapsed": false,
     "input": [
      "import random"
     ],
     "language": "python",
     "metadata": {},
     "outputs": [],
     "prompt_number": 8
    },
    {
     "cell_type": "code",
     "collapsed": false,
     "input": [
      "task.reset()\n",
      "print(\"Current state: \", task.observe())\n",
      "action = random.choice(range(4))\n",
      "print(\"Taking action\", action)\n",
      "new_state, reward = task.perform_action(action)\n",
      "print(\"New state:\", new_state, \"Reward:\", reward)"
     ],
     "language": "python",
     "metadata": {},
     "outputs": [
      {
       "output_type": "stream",
       "stream": "stdout",
       "text": [
        "Current state:  64\n",
        "Taking action 2\n",
        "New state: 65 Reward: 0\n"
       ]
      }
     ],
     "prompt_number": 22
    }
   ],
   "metadata": {}
  }
 ]
}