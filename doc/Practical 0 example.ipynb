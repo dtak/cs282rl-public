{
 "metadata": {
  "name": "",
  "signature": "sha256:e99e11b3e53bb6ab30809fd2c8469688d7f16613eca9889323f8fe9dab6d9e90"
 },
 "nbformat": 3,
 "nbformat_minor": 0,
 "worksheets": [
  {
   "cells": [
    {
     "cell_type": "heading",
     "level": 1,
     "metadata": {},
     "source": [
      "Example code for GridWorld (Practical 0)"
     ]
    },
    {
     "cell_type": "heading",
     "level": 2,
     "metadata": {},
     "source": [
      "Fundamentals"
     ]
    },
    {
     "cell_type": "markdown",
     "metadata": {},
     "source": [
      "If you haven't already, install the `cs282rl` Python package by running:\n",
      "\n",
      "    pip install -e git+git@github.com:dtak/cs282rl.git#egg=cs282rl"
     ]
    },
    {
     "cell_type": "markdown",
     "metadata": {},
     "source": [
      "The support code will run in both Python 2 and Python 3. But let's configure even Python 2 to work more like Python 3 (it's the future, after all):"
     ]
    },
    {
     "cell_type": "code",
     "collapsed": false,
     "input": [
      "from __future__ import absolute_import, print_function, unicode_literals, division"
     ],
     "language": "python",
     "metadata": {},
     "outputs": [],
     "prompt_number": 1
    },
    {
     "cell_type": "markdown",
     "metadata": {},
     "source": [
      "Configure plotting."
     ]
    },
    {
     "cell_type": "code",
     "collapsed": false,
     "input": [
      "%matplotlib inline\n",
      "import matplotlib.pyplot as plt"
     ],
     "language": "python",
     "metadata": {},
     "outputs": [],
     "prompt_number": 2
    },
    {
     "cell_type": "markdown",
     "metadata": {},
     "source": [
      "Import libraries."
     ]
    },
    {
     "cell_type": "code",
     "collapsed": false,
     "input": [
      "import numpy as np"
     ],
     "language": "python",
     "metadata": {},
     "outputs": [],
     "prompt_number": 3
    },
    {
     "cell_type": "code",
     "collapsed": false,
     "input": [
      "from cs282rl.domains import GridWorld"
     ],
     "language": "python",
     "metadata": {},
     "outputs": [],
     "prompt_number": 4
    },
    {
     "cell_type": "heading",
     "level": 2,
     "metadata": {},
     "source": [
      "The GridWorld domain"
     ]
    },
    {
     "cell_type": "markdown",
     "metadata": {},
     "source": [
      "The main domain class is called GridWorld. Run the following cell for its documentation."
     ]
    },
    {
     "cell_type": "code",
     "collapsed": false,
     "input": [
      "GridWorld?\n",
      "# You can also run `help(GridWorld)`."
     ],
     "language": "python",
     "metadata": {},
     "outputs": [],
     "prompt_number": 5
    },
    {
     "cell_type": "markdown",
     "metadata": {},
     "source": [
      "Here's how to create a GridWorld:"
     ]
    },
    {
     "cell_type": "code",
     "collapsed": false,
     "input": [
      "maze = [ # this is also GridWorld.samples['trivial'].\n",
      "    '###', # '#' = wall\n",
      "    '#o#', # 'o' = origin grid cell\n",
      "    '#.#', # '.' = empty grid cell\n",
      "    '#*#', # '*' = goal\n",
      "    '###'] \n",
      "\n",
      "task = GridWorld(\n",
      "    maze,\n",
      "    action_error_prob=0, # With this probability, the requested action is ignored and a random action is chosen instead.\n",
      "    rewards={'*': 50, 'moved': -1, 'hit-wall': -1} # The rewards for each grid cell contents, or action (summed)\n",
      "\n",
      "    # Thought exercise: here the reward depends on previous state, action, and current state. Could you get the same result\n",
      "    # only depending on the current state?\n",
      ")"
     ],
     "language": "python",
     "metadata": {},
     "outputs": [],
     "prompt_number": 6
    },
    {
     "cell_type": "markdown",
     "metadata": {},
     "source": [
      "You can observe the current state:"
     ]
    },
    {
     "cell_type": "code",
     "collapsed": false,
     "input": [
      "task.reset()\n",
      "print(\"Current state:\", task.observe(), \"of\", task.num_states)"
     ],
     "language": "python",
     "metadata": {},
     "outputs": [
      {
       "output_type": "stream",
       "stream": "stdout",
       "text": [
        "Current state: 4 of 15\n"
       ]
      }
     ],
     "prompt_number": 7
    },
    {
     "cell_type": "markdown",
     "metadata": {},
     "source": [
      "... and take an action (in this case, South):"
     ]
    },
    {
     "cell_type": "code",
     "collapsed": false,
     "input": [
      "action = 1\n",
      "print(\"Taking action\", action)\n",
      "new_state, reward = task.perform_action(action)\n",
      "print(\"New state:\", new_state, \"Reward:\", reward)"
     ],
     "language": "python",
     "metadata": {},
     "outputs": [
      {
       "output_type": "stream",
       "stream": "stdout",
       "text": [
        "Taking action 1\n",
        "New state: 7 Reward: -1\n"
       ]
      }
     ],
     "prompt_number": 8
    },
    {
     "cell_type": "markdown",
     "metadata": {},
     "source": [
      "Now we're in the middle empty square. One more action and we're at the goal! The None state is terminal."
     ]
    },
    {
     "cell_type": "code",
     "collapsed": false,
     "input": [
      "action = 1\n",
      "print(\"Taking action\", action)\n",
      "new_state, reward = task.perform_action(action)\n",
      "print(\"New state:\", new_state, \"Reward:\", reward)"
     ],
     "language": "python",
     "metadata": {},
     "outputs": [
      {
       "output_type": "stream",
       "stream": "stdout",
       "text": [
        "Taking action 1\n",
        "New state: None Reward: 49\n"
       ]
      }
     ],
     "prompt_number": 9
    },
    {
     "cell_type": "heading",
     "level": 2,
     "metadata": {},
     "source": [
      "Your Turn"
     ]
    },
    {
     "cell_type": "markdown",
     "metadata": {},
     "source": [
      "Here's a larger maze to get you started."
     ]
    },
    {
     "cell_type": "code",
     "collapsed": false,
     "input": [
      "maze = GridWorld.samples['larger']\n",
      "for row in maze:\n",
      "    print(row)"
     ],
     "language": "python",
     "metadata": {},
     "outputs": [
      {
       "output_type": "stream",
       "stream": "stdout",
       "text": [
        "#########\n",
        "#..#....#\n",
        "#..#..#.#\n",
        "#..#..#.#\n",
        "#..#.##.#\n",
        "#....*#.#\n",
        "#######.#\n",
        "#o......#\n",
        "#########\n"
       ]
      }
     ],
     "prompt_number": 10
    },
    {
     "cell_type": "markdown",
     "metadata": {},
     "source": [
      "For the real practical, configure a small probability of taking the wrong action."
     ]
    },
    {
     "cell_type": "code",
     "collapsed": false,
     "input": [
      "task = GridWorld(maze, action_error_prob=.1, rewards={'*': 50, 'moved': -1, 'hit-wall': -1})"
     ],
     "language": "python",
     "metadata": {},
     "outputs": [],
     "prompt_number": 11
    },
    {
     "cell_type": "markdown",
     "metadata": {},
     "source": [
      "You may find this plotting routine helpful:"
     ]
    },
    {
     "cell_type": "code",
     "collapsed": false,
     "input": [
      "def plot_with_errbars(N, data):\n",
      "    x = np.arange(N)\n",
      "    mean = data.mean(axis=0)\n",
      "    std = data.std(axis=0)\n",
      "    plt.fill_between(x, mean-2*std, mean+2*std, color='#d0d0d0')\n",
      "    plt.plot(x, mean)"
     ],
     "language": "python",
     "metadata": {},
     "outputs": [],
     "prompt_number": 12
    }
   ],
   "metadata": {}
  }
 ]
}