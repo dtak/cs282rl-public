{
 "metadata": {
  "name": "",
  "signature": "sha256:e2ab030d2fdb73175c8faa3e68bb5edd69cb3677e65ad92adbc49157ca440539"
 },
 "nbformat": 3,
 "nbformat_minor": 0,
 "worksheets": [
  {
   "cells": [
    {
     "cell_type": "heading",
     "level": 1,
     "metadata": {},
     "source": [
      "Example code for GridWorld (Practical 0)"
     ]
    },
    {
     "cell_type": "markdown",
     "metadata": {},
     "source": [
      "Configure an environment that's like Python 3. It's the future, after all:"
     ]
    },
    {
     "cell_type": "code",
     "collapsed": false,
     "input": [
      "from __future__ import absolute_import, print_function, unicode_literals, division"
     ],
     "language": "python",
     "metadata": {},
     "outputs": [],
     "prompt_number": 1
    },
    {
     "cell_type": "markdown",
     "metadata": {},
     "source": [
      "Configure plotting."
     ]
    },
    {
     "cell_type": "code",
     "collapsed": false,
     "input": [
      "%matplotlib inline\n",
      "import matplotlib.pyplot as plt"
     ],
     "language": "python",
     "metadata": {},
     "outputs": [],
     "prompt_number": 2
    },
    {
     "cell_type": "markdown",
     "metadata": {},
     "source": [
      "Import libraries."
     ]
    },
    {
     "cell_type": "code",
     "collapsed": false,
     "input": [
      "import numpy as np"
     ],
     "language": "python",
     "metadata": {},
     "outputs": [],
     "prompt_number": 3
    },
    {
     "cell_type": "code",
     "collapsed": false,
     "input": [
      "from cs282rl.domains import GridWorld"
     ],
     "language": "python",
     "metadata": {},
     "outputs": [],
     "prompt_number": 4
    },
    {
     "cell_type": "markdown",
     "metadata": {},
     "source": [
      "The main domain class is called GridWorld. Run the following cell for its documentation."
     ]
    },
    {
     "cell_type": "code",
     "collapsed": false,
     "input": [
      "help(GridWorld)"
     ],
     "language": "python",
     "metadata": {},
     "outputs": []
    },
    {
     "cell_type": "markdown",
     "metadata": {},
     "source": [
      "Here's how to create a GridWorld:"
     ]
    },
    {
     "cell_type": "code",
     "collapsed": false,
     "input": [
      "maze = [\n",
      "    '###',\n",
      "    '#o#',\n",
      "    '#.#',\n",
      "    '#*#',\n",
      "    '###']\n",
      "\n",
      "task = GridWorld(maze, action_error_prob=0)"
     ],
     "language": "python",
     "metadata": {},
     "outputs": [],
     "prompt_number": 5
    },
    {
     "cell_type": "markdown",
     "metadata": {},
     "source": [
      "You can observe the current state:"
     ]
    },
    {
     "cell_type": "code",
     "collapsed": false,
     "input": [
      "task.reset()\n",
      "print(\"Current state:\", task.observe(), \"of\", task.num_states)"
     ],
     "language": "python",
     "metadata": {},
     "outputs": [
      {
       "output_type": "stream",
       "stream": "stdout",
       "text": [
        "Current state: 4 of 15\n"
       ]
      }
     ],
     "prompt_number": 6
    },
    {
     "cell_type": "markdown",
     "metadata": {},
     "source": [
      "... and take an action (in this case, South):"
     ]
    },
    {
     "cell_type": "code",
     "collapsed": false,
     "input": [
      "action = 1\n",
      "print(\"Taking action\", action)\n",
      "new_state, reward = task.perform_action(action)\n",
      "print(\"New state:\", new_state, \"Reward:\", reward)"
     ],
     "language": "python",
     "metadata": {},
     "outputs": [
      {
       "output_type": "stream",
       "stream": "stdout",
       "text": [
        "Taking action 1\n",
        "New state: 7 Reward: 0\n"
       ]
      }
     ],
     "prompt_number": 7
    },
    {
     "cell_type": "markdown",
     "metadata": {},
     "source": [
      "Now we're in the middle empty square. One more action and we're at the goal! The None state is terminal."
     ]
    },
    {
     "cell_type": "code",
     "collapsed": false,
     "input": [
      "action = 1\n",
      "print(\"Taking action\", action)\n",
      "new_state, reward = task.perform_action(action)\n",
      "print(\"New state:\", new_state, \"Reward:\", reward)"
     ],
     "language": "python",
     "metadata": {},
     "outputs": [
      {
       "output_type": "stream",
       "stream": "stdout",
       "text": [
        "Taking action 1\n",
        "New state: None Reward: 10\n"
       ]
      }
     ],
     "prompt_number": 8
    },
    {
     "cell_type": "heading",
     "level": 2,
     "metadata": {},
     "source": [
      "Here's a larger maze to get you started."
     ]
    },
    {
     "cell_type": "code",
     "collapsed": false,
     "input": [
      "maze = [\n",
      "    '#########',\n",
      "    '#..#....#',\n",
      "    '#..#..#.#',\n",
      "    '#..#..#.#',\n",
      "    '#..#.##.#',\n",
      "    '#....*#.#',\n",
      "    '#######.#',\n",
      "    '#o......#',\n",
      "    '#########']\n",
      "\n",
      "task = GridWorld(maze, action_error_prob=.1)"
     ],
     "language": "python",
     "metadata": {},
     "outputs": [],
     "prompt_number": 9
    },
    {
     "cell_type": "markdown",
     "metadata": {},
     "source": [
      "You may find this plotting routine helpful:"
     ]
    },
    {
     "cell_type": "code",
     "collapsed": false,
     "input": [
      "def plot_with_errbars(N, data):\n",
      "    x = np.arange(N)\n",
      "    mean = data.mean(axis=0)\n",
      "    std = data.std(axis=0)\n",
      "    plt.fill_between(x, mean-2*std, mean+2*std, color='#d0d0d0')\n",
      "    plt.plot(x, mean)"
     ],
     "language": "python",
     "metadata": {},
     "outputs": [],
     "prompt_number": 10
    }
   ],
   "metadata": {}
  }
 ]
}