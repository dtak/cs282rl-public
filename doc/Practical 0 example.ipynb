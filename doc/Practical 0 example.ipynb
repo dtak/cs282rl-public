{
 "metadata": {
  "name": "",
  "signature": "sha256:056790869b423e773d116611cb32eb3c4e6ff691cf2793ac5f35c5851fc7971f"
 },
 "nbformat": 3,
 "nbformat_minor": 0,
 "worksheets": [
  {
   "cells": [
    {
     "cell_type": "code",
     "collapsed": false,
     "input": [
      "from __future__ import absolute_import, print_function, unicode_literals, division"
     ],
     "language": "python",
     "metadata": {},
     "outputs": [],
     "prompt_number": 1
    },
    {
     "cell_type": "code",
     "collapsed": false,
     "input": [
      "%matplotlib inline\n",
      "import matplotlib.pyplot as plt"
     ],
     "language": "python",
     "metadata": {},
     "outputs": [],
     "prompt_number": 2
    },
    {
     "cell_type": "code",
     "collapsed": false,
     "input": [
      "import numpy as np"
     ],
     "language": "python",
     "metadata": {},
     "outputs": [],
     "prompt_number": 3
    },
    {
     "cell_type": "code",
     "collapsed": false,
     "input": [
      "from cs282rl.domains import Maze, GridWorld"
     ],
     "language": "python",
     "metadata": {},
     "outputs": [],
     "prompt_number": 4
    },
    {
     "cell_type": "code",
     "collapsed": false,
     "input": [
      "help(GridWorld)"
     ],
     "language": "python",
     "metadata": {},
     "outputs": [
      {
       "output_type": "stream",
       "stream": "stdout",
       "text": [
        "Help on class GridWorld in module cs282rl.domains.maze:\n",
        "\n",
        "class GridWorld(builtins.object)\n",
        " |  A simple task in a maze: get to the goal.\n",
        " |  \n",
        " |  Parameters\n",
        " |  ----------\n",
        " |  \n",
        " |  maze : list of strings or lists\n",
        " |      maze topology (see below)\n",
        " |  \n",
        " |  absorbing_end_state: boolean.\n",
        " |      Normally, terminal states are represented as state=None. If this flag\n",
        " |      is True, however, terminal states are instead represented as a numbered\n",
        " |      state (with the maximal index) where all actions do nothing and give\n",
        " |      no reward.\n",
        " |  \n",
        " |  rewards: dict of string to number. default: {'*': 10}.\n",
        " |      Rewards obtained by being in a maze grid with the specified contents,\n",
        " |      or experiencing the specified event (e.g., 'hit-wall', 'moved'). The\n",
        " |      contributions of content reward and event reward are summed. For\n",
        " |      example, you might specify a cost for moving by passing\n",
        " |      rewards={'*': 10, 'moved': -1}.\n",
        " |  \n",
        " |  action_error_prob: float\n",
        " |      With this probability, the requested action is ignored and a random\n",
        " |      action is chosen instead.\n",
        " |  \n",
        " |  random_state: None, int, or RandomState object\n",
        " |      For repeatable experiments, you can pass a random state here. See\n",
        " |      http://scikit-learn.org/stable/modules/generated/sklearn.utils.check_random_state.html\n",
        " |  \n",
        " |  Notes\n",
        " |  -----\n",
        " |  \n",
        " |  Maze topology is expressed textually. Key:\n",
        " |   '#': wall\n",
        " |   '.': open (really, anything that's not '#')\n",
        " |   '*': goal\n",
        " |   'o': origin\n",
        " |  \n",
        " |  Methods defined here:\n",
        " |  \n",
        " |  __init__(self, maze, absorbing_end_state=False, rewards={'*': 10}, action_error_prob=0, random_state=None)\n",
        " |  \n",
        " |  observe(self)\n",
        " |      Return the current state as an integer.\n",
        " |      \n",
        " |      The state is the index into the flattened maze. If the end state is\n",
        " |      absorbing, the n*m+1th state is that absorbing state.\n",
        " |  \n",
        " |  perform_action(self, action_idx)\n",
        " |      Perform an action (specified by index), yielding a new state and reward.\n",
        " |  \n",
        " |  reset(self)\n",
        " |      Reset the position to a starting position (an 'o'), chosen at random.\n",
        " |  \n",
        " |  ----------------------------------------------------------------------\n",
        " |  Data descriptors defined here:\n",
        " |  \n",
        " |  __dict__\n",
        " |      dictionary for instance variables (if defined)\n",
        " |  \n",
        " |  __weakref__\n",
        " |      list of weak references to the object (if defined)\n",
        " |  \n",
        " |  ----------------------------------------------------------------------\n",
        " |  Data and other attributes defined here:\n",
        " |  \n",
        " |  GOAL_MARKER = '*'\n",
        "\n"
       ]
      }
     ],
     "prompt_number": 5
    },
    {
     "cell_type": "markdown",
     "metadata": {},
     "source": [
      "Here's how to create a GridWorld:"
     ]
    },
    {
     "cell_type": "code",
     "collapsed": false,
     "input": [
      "maze = [\n",
      "    '###',\n",
      "    '#o#',\n",
      "    '#.#',\n",
      "    '#*#',\n",
      "    '###']\n",
      "\n",
      "task = GridWorld(maze, action_error_prob=0)"
     ],
     "language": "python",
     "metadata": {},
     "outputs": [],
     "prompt_number": 6
    },
    {
     "cell_type": "markdown",
     "metadata": {},
     "source": [
      "You can observe the current state:"
     ]
    },
    {
     "cell_type": "code",
     "collapsed": false,
     "input": [
      "task.reset()\n",
      "print(\"Current state:\", task.observe(), \"of\", task.num_states)"
     ],
     "language": "python",
     "metadata": {},
     "outputs": [
      {
       "output_type": "stream",
       "stream": "stdout",
       "text": [
        "Current state: 4 of 15\n"
       ]
      }
     ],
     "prompt_number": 7
    },
    {
     "cell_type": "markdown",
     "metadata": {},
     "source": [
      "... and take an action (in this case, South):"
     ]
    },
    {
     "cell_type": "code",
     "collapsed": false,
     "input": [
      "action = 1\n",
      "print(\"Taking action\", action)\n",
      "new_state, reward = task.perform_action(action)\n",
      "print(\"New state:\", new_state, \"Reward:\", reward)"
     ],
     "language": "python",
     "metadata": {},
     "outputs": [
      {
       "output_type": "stream",
       "stream": "stdout",
       "text": [
        "Taking action 1\n",
        "New state: 7 Reward: 0\n"
       ]
      }
     ],
     "prompt_number": 8
    },
    {
     "cell_type": "markdown",
     "metadata": {},
     "source": [
      "Now we're in the middle empty square. One more action and we're at the goal! The None state is terminal."
     ]
    },
    {
     "cell_type": "code",
     "collapsed": false,
     "input": [
      "action = 1\n",
      "print(\"Taking action\", action)\n",
      "new_state, reward = task.perform_action(action)\n",
      "print(\"New state:\", new_state, \"Reward:\", reward)"
     ],
     "language": "python",
     "metadata": {},
     "outputs": [
      {
       "output_type": "stream",
       "stream": "stdout",
       "text": [
        "Taking action 1\n",
        "New state: None Reward: 10\n"
       ]
      }
     ],
     "prompt_number": 9
    },
    {
     "cell_type": "heading",
     "level": 2,
     "metadata": {},
     "source": [
      "Here's a larger maze to get you started."
     ]
    },
    {
     "cell_type": "code",
     "collapsed": false,
     "input": [
      "maze = [\n",
      "    '#########',\n",
      "    '#..#....#',\n",
      "    '#..#..#.#',\n",
      "    '#..#..#.#',\n",
      "    '#..#.##.#',\n",
      "    '#....*#.#',\n",
      "    '#######.#',\n",
      "    '#o......#',\n",
      "    '#########']\n",
      "\n",
      "task = GridWorld(maze, action_error_prob=.1)"
     ],
     "language": "python",
     "metadata": {},
     "outputs": [],
     "prompt_number": 10
    },
    {
     "cell_type": "code",
     "collapsed": false,
     "input": [],
     "language": "python",
     "metadata": {},
     "outputs": [],
     "prompt_number": 10
    }
   ],
   "metadata": {}
  }
 ]
}